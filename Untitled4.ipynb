{
  "nbformat": 4,
  "nbformat_minor": 0,
  "metadata": {
    "colab": {
      "provenance": [],
      "authorship_tag": "ABX9TyO6KS5NrWscATcrhKqyNKEc",
      "include_colab_link": true
    },
    "kernelspec": {
      "name": "python3",
      "display_name": "Python 3"
    },
    "language_info": {
      "name": "python"
    }
  },
  "cells": [
    {
      "cell_type": "markdown",
      "metadata": {
        "id": "view-in-github",
        "colab_type": "text"
      },
      "source": [
        "<a href=\"https://colab.research.google.com/github/madhav013/co-lab/blob/main/Untitled4.ipynb\" target=\"_parent\"><img src=\"https://colab.research.google.com/assets/colab-badge.svg\" alt=\"Open In Colab\"/></a>"
      ]
    },
    {
      "cell_type": "code",
      "execution_count": 16,
      "metadata": {
        "colab": {
          "base_uri": "https://localhost:8080/"
        },
        "id": "6oIzgzHP-SD3",
        "outputId": "35e77da1-3f17-4de8-84ed-bcb027812149"
      },
      "outputs": [
        {
          "output_type": "stream",
          "name": "stdout",
          "text": [
            "'the' found in the sentences at indices: [0, 3]\n"
          ]
        }
      ],
      "source": [
        "def search_string_in_sentences(string_to_search, list_of_sentences):\n",
        "    \"\"\"\n",
        "    Search for a string in a list of sentences.\n",
        "\n",
        "    Args:\n",
        "    string_to_search (str): The string to search for.\n",
        "    list_of_sentences (list): The list of sentences to search in.\n",
        "\n",
        "    Returns:\n",
        "    list: A list containing indices of sentences where the search string was found.\n",
        "          If the search string is not found, an empty list is returned.\n",
        "    \"\"\"\n",
        "    indices = []\n",
        "    for index, sentence in enumerate(list_of_sentences):\n",
        "        if string_to_search.lower() in sentence.lower():\n",
        "            indices.append(index)\n",
        "    return indices\n",
        "\n",
        "# Example usage:\n",
        "sentences = [\n",
        "    \"The quick brown fox jumps over the lazy dog.\",\n",
        "    \"A watched pot never boils.\",\n",
        "    \"Actions speak louder than words.\",\n",
        "    \"An apple a day keeps the doctor away.\"\n",
        "]\n",
        "\n",
        "search_query = \"the\"\n",
        "results = search_string_in_sentences(search_query, sentences)\n",
        "if results:\n",
        "    print(f\"'{search_query}' found in the sentences at indices: {results}\")\n",
        "else:\n",
        "    print(f\"'{search_query}' not found in the sentences.\")\n"
      ]
    }
  ]
}